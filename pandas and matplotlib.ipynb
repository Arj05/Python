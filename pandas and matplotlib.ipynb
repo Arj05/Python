{
 "cells": [
  {
   "cell_type": "code",
   "execution_count": 3,
   "metadata": {},
   "outputs": [
    {
     "name": "stdout",
     "output_type": "stream",
     "text": [
      "Series([], dtype: float64)\n"
     ]
    }
   ],
   "source": [
    "import pandas as pd\n",
    "s=pd.Series()\n",
    "print(s)"
   ]
  },
  {
   "cell_type": "code",
   "execution_count": 4,
   "metadata": {},
   "outputs": [
    {
     "name": "stdout",
     "output_type": "stream",
     "text": [
      "0     12\n",
      "1     13\n",
      "2     14\n",
      "3     15\n",
      "4    176\n",
      "dtype: int64\n"
     ]
    }
   ],
   "source": [
    "import pandas as pd\n",
    "import numpy as np\n",
    "data=np.array([12,13,14,15,176])\n",
    "s=pd.Series(data)\n",
    "print(s)"
   ]
  },
  {
   "cell_type": "code",
   "execution_count": 5,
   "metadata": {},
   "outputs": [
    {
     "name": "stdout",
     "output_type": "stream",
     "text": [
      "100     12\n",
      "200     13\n",
      "300     14\n",
      "301     15\n",
      "302    176\n",
      "dtype: int64\n"
     ]
    }
   ],
   "source": [
    "import pandas as pd\n",
    "import numpy as np\n",
    "data=np.array([12,13,14,15,176])\n",
    "s=pd.Series(data,index=[100,200,300,301,302])\n",
    "print(s)"
   ]
  },
  {
   "cell_type": "code",
   "execution_count": 6,
   "metadata": {},
   "outputs": [
    {
     "name": "stdout",
     "output_type": "stream",
     "text": [
      "name       lakshya\n",
      "id               1\n",
      "address    beltola\n",
      "dtype: object\n"
     ]
    }
   ],
   "source": [
    "import pandas as pd\n",
    "import numpy as np\n",
    "data={'name':'lakshya','id':1,'address':'beltola'}\n",
    "s=pd.Series(data)\n",
    "print(s)"
   ]
  },
  {
   "cell_type": "code",
   "execution_count": 7,
   "metadata": {},
   "outputs": [
    {
     "name": "stdout",
     "output_type": "stream",
     "text": [
      "1\n"
     ]
    }
   ],
   "source": [
    "import pandas as pd\n",
    "s=pd.Series([1,2,3,4,5],index=['a','b','c','d','e'])\n",
    "print(s['a'])"
   ]
  },
  {
   "cell_type": "code",
   "execution_count": 8,
   "metadata": {},
   "outputs": [
    {
     "name": "stdout",
     "output_type": "stream",
     "text": [
      "Empty DataFrame\n",
      "Columns: []\n",
      "Index: []\n"
     ]
    }
   ],
   "source": [
    "import pandas as pd\n",
    "df=pd.DataFrame()\n",
    "print(df)"
   ]
  },
  {
   "cell_type": "code",
   "execution_count": 9,
   "metadata": {},
   "outputs": [
    {
     "name": "stdout",
     "output_type": "stream",
     "text": [
      "   0\n",
      "0  1\n",
      "1  2\n",
      "2  3\n",
      "3  4\n",
      "4  5\n"
     ]
    }
   ],
   "source": [
    "data=[1,2,3,4,5]\n",
    "df=pd.DataFrame(data)\n",
    "print(df)"
   ]
  },
  {
   "cell_type": "code",
   "execution_count": 12,
   "metadata": {},
   "outputs": [
    {
     "name": "stdout",
     "output_type": "stream",
     "text": [
      "data frame is:\n",
      "      name  age  ratings\n",
      "0  lakshya    1       11\n",
      "1   kushal    2       22\n",
      "2     udit    3       33\n",
      "3    arjun    4       44\n"
     ]
    }
   ],
   "source": [
    "import pandas as pd\n",
    "import numpy as np\n",
    "data={'name':pd.Series(['lakshya','kushal','udit','arjun']),\n",
    "      'age':pd.Series([1,2,3,4]),'ratings':pd.Series([11,22,33,44])}\n",
    "df=pd.DataFrame(data)\n",
    "print(\"data frame is:\")\n",
    "print(df)"
   ]
  },
  {
   "cell_type": "code",
   "execution_count": 1,
   "metadata": {},
   "outputs": [
    {
     "name": "stdout",
     "output_type": "stream",
     "text": [
      "data frame is:\n",
      "               0       1     2      3\n",
      "name     lakshya  kushal  udit  arjun\n",
      "age            1       2     3      4\n",
      "ratings       11      22    33     44\n"
     ]
    }
   ],
   "source": [
    "import pandas as pd\n",
    "#import numpy as np\n",
    "data={'name':pd.Series(['lakshya','kushal','udit','arjun']),\n",
    "      'age':pd.Series([1,2,3,4]),'ratings':pd.Series([11,22,33,44])}\n",
    "df=pd.DataFrame(data)\n",
    "print(\"data frame is:\")\n",
    "print(df.T)  #transpose matrix"
   ]
  },
  {
   "cell_type": "code",
   "execution_count": 21,
   "metadata": {},
   "outputs": [
    {
     "name": "stdout",
     "output_type": "stream",
     "text": [
      "  months  avg_high  avg_low  record_low  record_high  avg_participation\n",
      "0    jan        43       56          78           90               2.95\n",
      "1    feb        77       88          99           65              55.78\n",
      "2    mar        44       55          66           74              34.00\n"
     ]
    }
   ],
   "source": [
    "import pandas as pd\n",
    "import numpy as np\n",
    "df=pd.DataFrame([\n",
    "    ['jan',43,56,78,90,2.95],\n",
    "    ['feb',77,88,99,65,55.78],\n",
    "    ['mar',44,55,66,74,34]],\n",
    "    columns=['months','avg_high','avg_low','record_low','record_high','avg_participation'])\n",
    "print(df)"
   ]
  },
  {
   "cell_type": "code",
   "execution_count": 23,
   "metadata": {},
   "outputs": [
    {
     "name": "stdout",
     "output_type": "stream",
     "text": [
      "           SER_REF  TIME_REF  DATA_VAL STATUS  UNITS  \\\n",
      "0     CPIM.SE1041F   2006.11      1000  FINAL  Index   \n",
      "1     CPIM.SE1041F   2006.12       995  FINAL  Index   \n",
      "2     CPIM.SE1041F   2007.01      1007  FINAL  Index   \n",
      "3     CPIM.SE1041F   2007.02      1012  FINAL  Index   \n",
      "4     CPIM.SE1041F   2007.03      1020  FINAL  Index   \n",
      "5     CPIM.SE1041F   2007.04      1023  FINAL  Index   \n",
      "6     CPIM.SE1041F   2007.05      1045  FINAL  Index   \n",
      "7     CPIM.SE1041F   2007.06      1033  FINAL  Index   \n",
      "8     CPIM.SE1041F   2007.07      1037  FINAL  Index   \n",
      "9     CPIM.SE1041F   2007.08      1058  FINAL  Index   \n",
      "10    CPIM.SE1041F   2007.09      1051  FINAL  Index   \n",
      "11    CPIM.SE1041F   2007.10      1051  FINAL  Index   \n",
      "12    CPIM.SE1041F   2007.11      1063  FINAL  Index   \n",
      "13    CPIM.SE1041F   2007.12      1064  FINAL  Index   \n",
      "14    CPIM.SE1041F   2008.01      1050  FINAL  Index   \n",
      "15    CPIM.SE1041F   2008.02      1082  FINAL  Index   \n",
      "16    CPIM.SE1041F   2008.03      1076  FINAL  Index   \n",
      "17    CPIM.SE1041F   2008.04      1083  FINAL  Index   \n",
      "18    CPIM.SE1041F   2008.05      1085  FINAL  Index   \n",
      "19    CPIM.SE1041F   2008.06      1070  FINAL  Index   \n",
      "20    CPIM.SE1041F   2008.07      1071  FINAL  Index   \n",
      "21    CPIM.SE1041F   2008.08      1056  FINAL  Index   \n",
      "22    CPIM.SE1041F   2008.09      1069  FINAL  Index   \n",
      "23    CPIM.SE1041F   2008.10      1064  FINAL  Index   \n",
      "24    CPIM.SE1041F   2008.11      1059  FINAL  Index   \n",
      "25    CPIM.SE1041F   2008.12      1057  FINAL  Index   \n",
      "26    CPIM.SE1041F   2009.01      1061  FINAL  Index   \n",
      "27    CPIM.SE1041F   2009.02      1071  FINAL  Index   \n",
      "28    CPIM.SE1041F   2009.03      1068  FINAL  Index   \n",
      "29    CPIM.SE1041F   2009.04      1059  FINAL  Index   \n",
      "...            ...       ...       ...    ...    ...   \n",
      "1027  CPIM.SE9041S   2016.12      1340  FINAL  Index   \n",
      "1028  CPIM.SE9041S   2017.01      1343  FINAL  Index   \n",
      "1029  CPIM.SE9041S   2017.02      1347  FINAL  Index   \n",
      "1030  CPIM.SE9041S   2017.03      1353  FINAL  Index   \n",
      "1031  CPIM.SE9041S   2017.04      1356  FINAL  Index   \n",
      "1032  CPIM.SE9041S   2017.05      1361  FINAL  Index   \n",
      "1033  CPIM.SE9041S   2017.06      1364  FINAL  Index   \n",
      "1034  CPIM.SE9041S   2017.07      1368  FINAL  Index   \n",
      "1035  CPIM.SE9041S   2017.08      1371  FINAL  Index   \n",
      "1036  CPIM.SE9041S   2017.09      1374  FINAL  Index   \n",
      "1037  CPIM.SE9041S   2017.10      1377  FINAL  Index   \n",
      "1038  CPIM.SE9041S   2017.11      1379  FINAL  Index   \n",
      "1039  CPIM.SE9041S   2017.12      1381  FINAL  Index   \n",
      "1040  CPIM.SE9041S   2018.01      1384  FINAL  Index   \n",
      "1041  CPIM.SE9041S   2018.02      1387  FINAL  Index   \n",
      "1042  CPIM.SE9041S   2018.03      1391  FINAL  Index   \n",
      "1043  CPIM.SE9041S   2018.04      1396  FINAL  Index   \n",
      "1044  CPIM.SE9041S   2018.05      1400  FINAL  Index   \n",
      "1045  CPIM.SE9041S   2018.06      1405  FINAL  Index   \n",
      "1046  CPIM.SE9041S   2018.07      1408  FINAL  Index   \n",
      "1047  CPIM.SE9041S   2018.08      1411  FINAL  Index   \n",
      "1048  CPIM.SE9041S   2018.09      1414  FINAL  Index   \n",
      "1049  CPIM.SE9041S   2018.10      1418  FINAL  Index   \n",
      "1050  CPIM.SE9041S   2018.11      1422  FINAL  Index   \n",
      "1051  CPIM.SE9041S   2018.12      1425  FINAL  Index   \n",
      "1052  CPIM.SE9041S   2019.01      1430  FINAL  Index   \n",
      "1053  CPIM.SE9041S   2019.02      1433  FINAL  Index   \n",
      "1054  CPIM.SE9041S   2019.03      1438  FINAL  Index   \n",
      "1055  CPIM.SE9041S   2019.04      1443  FINAL  Index   \n",
      "1056  CPIM.SE9041S   2019.05      1448  FINAL  Index   \n",
      "\n",
      "                          Subject                                 Group  \\\n",
      "0     Consumers Price Index - CPI  Rental Price Indexes for New Zealand   \n",
      "1     Consumers Price Index - CPI  Rental Price Indexes for New Zealand   \n",
      "2     Consumers Price Index - CPI  Rental Price Indexes for New Zealand   \n",
      "3     Consumers Price Index - CPI  Rental Price Indexes for New Zealand   \n",
      "4     Consumers Price Index - CPI  Rental Price Indexes for New Zealand   \n",
      "5     Consumers Price Index - CPI  Rental Price Indexes for New Zealand   \n",
      "6     Consumers Price Index - CPI  Rental Price Indexes for New Zealand   \n",
      "7     Consumers Price Index - CPI  Rental Price Indexes for New Zealand   \n",
      "8     Consumers Price Index - CPI  Rental Price Indexes for New Zealand   \n",
      "9     Consumers Price Index - CPI  Rental Price Indexes for New Zealand   \n",
      "10    Consumers Price Index - CPI  Rental Price Indexes for New Zealand   \n",
      "11    Consumers Price Index - CPI  Rental Price Indexes for New Zealand   \n",
      "12    Consumers Price Index - CPI  Rental Price Indexes for New Zealand   \n",
      "13    Consumers Price Index - CPI  Rental Price Indexes for New Zealand   \n",
      "14    Consumers Price Index - CPI  Rental Price Indexes for New Zealand   \n",
      "15    Consumers Price Index - CPI  Rental Price Indexes for New Zealand   \n",
      "16    Consumers Price Index - CPI  Rental Price Indexes for New Zealand   \n",
      "17    Consumers Price Index - CPI  Rental Price Indexes for New Zealand   \n",
      "18    Consumers Price Index - CPI  Rental Price Indexes for New Zealand   \n",
      "19    Consumers Price Index - CPI  Rental Price Indexes for New Zealand   \n",
      "20    Consumers Price Index - CPI  Rental Price Indexes for New Zealand   \n",
      "21    Consumers Price Index - CPI  Rental Price Indexes for New Zealand   \n",
      "22    Consumers Price Index - CPI  Rental Price Indexes for New Zealand   \n",
      "23    Consumers Price Index - CPI  Rental Price Indexes for New Zealand   \n",
      "24    Consumers Price Index - CPI  Rental Price Indexes for New Zealand   \n",
      "25    Consumers Price Index - CPI  Rental Price Indexes for New Zealand   \n",
      "26    Consumers Price Index - CPI  Rental Price Indexes for New Zealand   \n",
      "27    Consumers Price Index - CPI  Rental Price Indexes for New Zealand   \n",
      "28    Consumers Price Index - CPI  Rental Price Indexes for New Zealand   \n",
      "29    Consumers Price Index - CPI  Rental Price Indexes for New Zealand   \n",
      "...                           ...                                   ...   \n",
      "1027  Consumers Price Index - CPI  Rental Price Indexes for New Zealand   \n",
      "1028  Consumers Price Index - CPI  Rental Price Indexes for New Zealand   \n",
      "1029  Consumers Price Index - CPI  Rental Price Indexes for New Zealand   \n",
      "1030  Consumers Price Index - CPI  Rental Price Indexes for New Zealand   \n",
      "1031  Consumers Price Index - CPI  Rental Price Indexes for New Zealand   \n",
      "1032  Consumers Price Index - CPI  Rental Price Indexes for New Zealand   \n",
      "1033  Consumers Price Index - CPI  Rental Price Indexes for New Zealand   \n",
      "1034  Consumers Price Index - CPI  Rental Price Indexes for New Zealand   \n",
      "1035  Consumers Price Index - CPI  Rental Price Indexes for New Zealand   \n",
      "1036  Consumers Price Index - CPI  Rental Price Indexes for New Zealand   \n",
      "1037  Consumers Price Index - CPI  Rental Price Indexes for New Zealand   \n",
      "1038  Consumers Price Index - CPI  Rental Price Indexes for New Zealand   \n",
      "1039  Consumers Price Index - CPI  Rental Price Indexes for New Zealand   \n",
      "1040  Consumers Price Index - CPI  Rental Price Indexes for New Zealand   \n",
      "1041  Consumers Price Index - CPI  Rental Price Indexes for New Zealand   \n",
      "1042  Consumers Price Index - CPI  Rental Price Indexes for New Zealand   \n",
      "1043  Consumers Price Index - CPI  Rental Price Indexes for New Zealand   \n",
      "1044  Consumers Price Index - CPI  Rental Price Indexes for New Zealand   \n",
      "1045  Consumers Price Index - CPI  Rental Price Indexes for New Zealand   \n",
      "1046  Consumers Price Index - CPI  Rental Price Indexes for New Zealand   \n",
      "1047  Consumers Price Index - CPI  Rental Price Indexes for New Zealand   \n",
      "1048  Consumers Price Index - CPI  Rental Price Indexes for New Zealand   \n",
      "1049  Consumers Price Index - CPI  Rental Price Indexes for New Zealand   \n",
      "1050  Consumers Price Index - CPI  Rental Price Indexes for New Zealand   \n",
      "1051  Consumers Price Index - CPI  Rental Price Indexes for New Zealand   \n",
      "1052  Consumers Price Index - CPI  Rental Price Indexes for New Zealand   \n",
      "1053  Consumers Price Index - CPI  Rental Price Indexes for New Zealand   \n",
      "1054  Consumers Price Index - CPI  Rental Price Indexes for New Zealand   \n",
      "1055  Consumers Price Index - CPI  Rental Price Indexes for New Zealand   \n",
      "1056  Consumers Price Index - CPI  Rental Price Indexes for New Zealand   \n",
      "\n",
      "              Series_title_1  Unnamed: 8  \n",
      "0           monthly_flow_AKL         NaN  \n",
      "1           monthly_flow_AKL         NaN  \n",
      "2           monthly_flow_AKL         NaN  \n",
      "3           monthly_flow_AKL         NaN  \n",
      "4           monthly_flow_AKL         NaN  \n",
      "5           monthly_flow_AKL         NaN  \n",
      "6           monthly_flow_AKL         NaN  \n",
      "7           monthly_flow_AKL         NaN  \n",
      "8           monthly_flow_AKL         NaN  \n",
      "9           monthly_flow_AKL         NaN  \n",
      "10          monthly_flow_AKL         NaN  \n",
      "11          monthly_flow_AKL         NaN  \n",
      "12          monthly_flow_AKL         NaN  \n",
      "13          monthly_flow_AKL         NaN  \n",
      "14          monthly_flow_AKL         NaN  \n",
      "15          monthly_flow_AKL         NaN  \n",
      "16          monthly_flow_AKL         NaN  \n",
      "17          monthly_flow_AKL         NaN  \n",
      "18          monthly_flow_AKL         NaN  \n",
      "19          monthly_flow_AKL         NaN  \n",
      "20          monthly_flow_AKL         NaN  \n",
      "21          monthly_flow_AKL         NaN  \n",
      "22          monthly_flow_AKL         NaN  \n",
      "23          monthly_flow_AKL         NaN  \n",
      "24          monthly_flow_AKL         NaN  \n",
      "25          monthly_flow_AKL         NaN  \n",
      "26          monthly_flow_AKL         NaN  \n",
      "27          monthly_flow_AKL         NaN  \n",
      "28          monthly_flow_AKL         NaN  \n",
      "29          monthly_flow_AKL         NaN  \n",
      "...                      ...         ...  \n",
      "1027  monthly_stock_national         NaN  \n",
      "1028  monthly_stock_national         NaN  \n",
      "1029  monthly_stock_national         NaN  \n",
      "1030  monthly_stock_national         NaN  \n",
      "1031  monthly_stock_national         NaN  \n",
      "1032  monthly_stock_national         NaN  \n",
      "1033  monthly_stock_national         NaN  \n",
      "1034  monthly_stock_national         NaN  \n",
      "1035  monthly_stock_national         NaN  \n",
      "1036  monthly_stock_national         NaN  \n",
      "1037  monthly_stock_national         NaN  \n",
      "1038  monthly_stock_national         NaN  \n",
      "1039  monthly_stock_national         NaN  \n",
      "1040  monthly_stock_national         NaN  \n",
      "1041  monthly_stock_national         NaN  \n",
      "1042  monthly_stock_national         NaN  \n",
      "1043  monthly_stock_national         NaN  \n",
      "1044  monthly_stock_national         NaN  \n",
      "1045  monthly_stock_national         NaN  \n",
      "1046  monthly_stock_national         NaN  \n",
      "1047  monthly_stock_national         NaN  \n",
      "1048  monthly_stock_national         NaN  \n",
      "1049  monthly_stock_national         NaN  \n",
      "1050  monthly_stock_national         NaN  \n",
      "1051  monthly_stock_national         NaN  \n",
      "1052  monthly_stock_national         NaN  \n",
      "1053  monthly_stock_national         NaN  \n",
      "1054  monthly_stock_national         NaN  \n",
      "1055  monthly_stock_national         NaN  \n",
      "1056  monthly_stock_national         NaN  \n",
      "\n",
      "[1057 rows x 9 columns]\n"
     ]
    }
   ],
   "source": [
    "import pandas as pd\n",
    "import numpy as np\n",
    "data=pd.read_csv('/home/arjun/Downloads/rental.csv',encoding=\"ISO-8859-1\")\n",
    "print(data)"
   ]
  },
  {
   "cell_type": "code",
   "execution_count": 25,
   "metadata": {},
   "outputs": [
    {
     "name": "stdout",
     "output_type": "stream",
     "text": [
      "          TIME_REF     DATA_VAL  Unnamed: 8\n",
      "count  1057.000000  1057.000000         0.0\n",
      "mean   2012.693642  1215.227058         NaN\n",
      "std       3.646426   138.944593         NaN\n",
      "min    2006.110000   969.000000         NaN\n",
      "25%    2009.120000  1096.000000         NaN\n",
      "50%    2013.020000  1185.000000         NaN\n",
      "75%    2016.040000  1337.000000         NaN\n",
      "max    2019.050000  1600.000000         NaN\n"
     ]
    }
   ],
   "source": [
    "print(data.describe())"
   ]
  },
  {
   "cell_type": "code",
   "execution_count": 26,
   "metadata": {},
   "outputs": [
    {
     "name": "stdout",
     "output_type": "stream",
     "text": [
      "          SER_REF  TIME_REF  DATA_VAL STATUS  UNITS  \\\n",
      "152  CPIM.SE2041F   2006.12       969  FINAL  Index   \n",
      "303  CPIM.SE3041F   2006.12       976  FINAL  Index   \n",
      "605  CPIM.SE6041F   2006.12       979  FINAL  Index   \n",
      "756  CPIM.SE9041F   2006.12       992  FINAL  Index   \n",
      "1    CPIM.SE1041F   2006.12       995  FINAL  Index   \n",
      "0    CPIM.SE1041F   2006.11      1000  FINAL  Index   \n",
      "604  CPIM.SE6041F   2006.11      1000  FINAL  Index   \n",
      "453  CPIM.SE5041F   2006.11      1000  FINAL  Index   \n",
      "906  CPIM.SE9041S   2006.11      1000  FINAL  Index   \n",
      "302  CPIM.SE3041F   2006.11      1000  FINAL  Index   \n",
      "151  CPIM.SE2041F   2006.11      1000  FINAL  Index   \n",
      "755  CPIM.SE9041F   2006.11      1000  FINAL  Index   \n",
      "907  CPIM.SE9041S   2006.12      1002  FINAL  Index   \n",
      "304  CPIM.SE3041F   2007.01      1003  FINAL  Index   \n",
      "306  CPIM.SE3041F   2007.03      1004  FINAL  Index   \n",
      "908  CPIM.SE9041S   2007.01      1006  FINAL  Index   \n",
      "2    CPIM.SE1041F   2007.01      1007  FINAL  Index   \n",
      "610  CPIM.SE6041F   2007.05      1008  FINAL  Index   \n",
      "607  CPIM.SE6041F   2007.02      1009  FINAL  Index   \n",
      "909  CPIM.SE9041S   2007.02      1010  FINAL  Index   \n",
      "153  CPIM.SE2041F   2007.01      1010  FINAL  Index   \n",
      "609  CPIM.SE6041F   2007.04      1010  FINAL  Index   \n",
      "3    CPIM.SE1041F   2007.02      1012  FINAL  Index   \n",
      "460  CPIM.SE5041F   2007.06      1013  FINAL  Index   \n",
      "612  CPIM.SE6041F   2007.07      1013  FINAL  Index   \n",
      "305  CPIM.SE3041F   2007.02      1014  FINAL  Index   \n",
      "910  CPIM.SE9041S   2007.03      1015  FINAL  Index   \n",
      "458  CPIM.SE5041F   2007.04      1017  FINAL  Index   \n",
      "309  CPIM.SE3041F   2007.06      1017  FINAL  Index   \n",
      "156  CPIM.SE2041F   2007.04      1018  FINAL  Index   \n",
      "..            ...       ...       ...    ...    ...   \n",
      "135  CPIM.SE1041F   2018.02      1482  FINAL  Index   \n",
      "753  CPIM.SE6041F   2019.04      1482  FINAL  Index   \n",
      "141  CPIM.SE1041F   2018.08      1482  FINAL  Index   \n",
      "139  CPIM.SE1041F   2018.06      1487  FINAL  Index   \n",
      "142  CPIM.SE1041F   2018.09      1490  FINAL  Index   \n",
      "902  CPIM.SE9041F   2019.02      1492  FINAL  Index   \n",
      "137  CPIM.SE1041F   2018.04      1493  FINAL  Index   \n",
      "144  CPIM.SE1041F   2018.11      1497  FINAL  Index   \n",
      "450  CPIM.SE3041F   2019.03      1497  FINAL  Index   \n",
      "145  CPIM.SE1041F   2018.12      1499  FINAL  Index   \n",
      "451  CPIM.SE3041F   2019.04      1503  FINAL  Index   \n",
      "138  CPIM.SE1041F   2018.05      1503  FINAL  Index   \n",
      "296  CPIM.SE2041F   2018.12      1505  FINAL  Index   \n",
      "295  CPIM.SE2041F   2018.11      1506  FINAL  Index   \n",
      "905  CPIM.SE9041F   2019.05      1506  FINAL  Index   \n",
      "903  CPIM.SE9041F   2019.03      1507  FINAL  Index   \n",
      "904  CPIM.SE9041F   2019.04      1509  FINAL  Index   \n",
      "452  CPIM.SE3041F   2019.05      1511  FINAL  Index   \n",
      "146  CPIM.SE1041F   2019.01      1513  FINAL  Index   \n",
      "143  CPIM.SE1041F   2018.10      1520  FINAL  Index   \n",
      "754  CPIM.SE6041F   2019.05      1521  FINAL  Index   \n",
      "150  CPIM.SE1041F   2019.05      1522  FINAL  Index   \n",
      "147  CPIM.SE1041F   2019.02      1522  FINAL  Index   \n",
      "149  CPIM.SE1041F   2019.04      1529  FINAL  Index   \n",
      "148  CPIM.SE1041F   2019.03      1533  FINAL  Index   \n",
      "301  CPIM.SE2041F   2019.05      1540  FINAL  Index   \n",
      "297  CPIM.SE2041F   2019.01      1547  FINAL  Index   \n",
      "298  CPIM.SE2041F   2019.02      1575  FINAL  Index   \n",
      "300  CPIM.SE2041F   2019.04      1590  FINAL  Index   \n",
      "299  CPIM.SE2041F   2019.03      1600  FINAL  Index   \n",
      "\n",
      "                         Subject                                 Group  \\\n",
      "152  Consumers Price Index - CPI  Rental Price Indexes for New Zealand   \n",
      "303  Consumers Price Index - CPI  Rental Price Indexes for New Zealand   \n",
      "605  Consumers Price Index - CPI  Rental Price Indexes for New Zealand   \n",
      "756  Consumers Price Index - CPI  Rental Price Indexes for New Zealand   \n",
      "1    Consumers Price Index - CPI  Rental Price Indexes for New Zealand   \n",
      "0    Consumers Price Index - CPI  Rental Price Indexes for New Zealand   \n",
      "604  Consumers Price Index - CPI  Rental Price Indexes for New Zealand   \n",
      "453  Consumers Price Index - CPI  Rental Price Indexes for New Zealand   \n",
      "906  Consumers Price Index - CPI  Rental Price Indexes for New Zealand   \n",
      "302  Consumers Price Index - CPI  Rental Price Indexes for New Zealand   \n",
      "151  Consumers Price Index - CPI  Rental Price Indexes for New Zealand   \n",
      "755  Consumers Price Index - CPI  Rental Price Indexes for New Zealand   \n",
      "907  Consumers Price Index - CPI  Rental Price Indexes for New Zealand   \n",
      "304  Consumers Price Index - CPI  Rental Price Indexes for New Zealand   \n",
      "306  Consumers Price Index - CPI  Rental Price Indexes for New Zealand   \n",
      "908  Consumers Price Index - CPI  Rental Price Indexes for New Zealand   \n",
      "2    Consumers Price Index - CPI  Rental Price Indexes for New Zealand   \n",
      "610  Consumers Price Index - CPI  Rental Price Indexes for New Zealand   \n",
      "607  Consumers Price Index - CPI  Rental Price Indexes for New Zealand   \n",
      "909  Consumers Price Index - CPI  Rental Price Indexes for New Zealand   \n",
      "153  Consumers Price Index - CPI  Rental Price Indexes for New Zealand   \n",
      "609  Consumers Price Index - CPI  Rental Price Indexes for New Zealand   \n",
      "3    Consumers Price Index - CPI  Rental Price Indexes for New Zealand   \n",
      "460  Consumers Price Index - CPI  Rental Price Indexes for New Zealand   \n",
      "612  Consumers Price Index - CPI  Rental Price Indexes for New Zealand   \n",
      "305  Consumers Price Index - CPI  Rental Price Indexes for New Zealand   \n",
      "910  Consumers Price Index - CPI  Rental Price Indexes for New Zealand   \n",
      "458  Consumers Price Index - CPI  Rental Price Indexes for New Zealand   \n",
      "309  Consumers Price Index - CPI  Rental Price Indexes for New Zealand   \n",
      "156  Consumers Price Index - CPI  Rental Price Indexes for New Zealand   \n",
      "..                           ...                                   ...   \n",
      "135  Consumers Price Index - CPI  Rental Price Indexes for New Zealand   \n",
      "753  Consumers Price Index - CPI  Rental Price Indexes for New Zealand   \n",
      "141  Consumers Price Index - CPI  Rental Price Indexes for New Zealand   \n",
      "139  Consumers Price Index - CPI  Rental Price Indexes for New Zealand   \n",
      "142  Consumers Price Index - CPI  Rental Price Indexes for New Zealand   \n",
      "902  Consumers Price Index - CPI  Rental Price Indexes for New Zealand   \n",
      "137  Consumers Price Index - CPI  Rental Price Indexes for New Zealand   \n",
      "144  Consumers Price Index - CPI  Rental Price Indexes for New Zealand   \n",
      "450  Consumers Price Index - CPI  Rental Price Indexes for New Zealand   \n",
      "145  Consumers Price Index - CPI  Rental Price Indexes for New Zealand   \n",
      "451  Consumers Price Index - CPI  Rental Price Indexes for New Zealand   \n",
      "138  Consumers Price Index - CPI  Rental Price Indexes for New Zealand   \n",
      "296  Consumers Price Index - CPI  Rental Price Indexes for New Zealand   \n",
      "295  Consumers Price Index - CPI  Rental Price Indexes for New Zealand   \n",
      "905  Consumers Price Index - CPI  Rental Price Indexes for New Zealand   \n",
      "903  Consumers Price Index - CPI  Rental Price Indexes for New Zealand   \n",
      "904  Consumers Price Index - CPI  Rental Price Indexes for New Zealand   \n",
      "452  Consumers Price Index - CPI  Rental Price Indexes for New Zealand   \n",
      "146  Consumers Price Index - CPI  Rental Price Indexes for New Zealand   \n",
      "143  Consumers Price Index - CPI  Rental Price Indexes for New Zealand   \n",
      "754  Consumers Price Index - CPI  Rental Price Indexes for New Zealand   \n",
      "150  Consumers Price Index - CPI  Rental Price Indexes for New Zealand   \n",
      "147  Consumers Price Index - CPI  Rental Price Indexes for New Zealand   \n",
      "149  Consumers Price Index - CPI  Rental Price Indexes for New Zealand   \n",
      "148  Consumers Price Index - CPI  Rental Price Indexes for New Zealand   \n",
      "301  Consumers Price Index - CPI  Rental Price Indexes for New Zealand   \n",
      "297  Consumers Price Index - CPI  Rental Price Indexes for New Zealand   \n",
      "298  Consumers Price Index - CPI  Rental Price Indexes for New Zealand   \n",
      "300  Consumers Price Index - CPI  Rental Price Indexes for New Zealand   \n",
      "299  Consumers Price Index - CPI  Rental Price Indexes for New Zealand   \n",
      "\n",
      "             Series_title_1  Unnamed: 8  \n",
      "152        monthly_flow_WLG         NaN  \n",
      "303        monthly_flow_RNI         NaN  \n",
      "605        monthly_flow_RSI         NaN  \n",
      "756   monthly_flow_national         NaN  \n",
      "1          monthly_flow_AKL         NaN  \n",
      "0          monthly_flow_AKL         NaN  \n",
      "604        monthly_flow_RSI         NaN  \n",
      "453        monthly_flow_CAN         NaN  \n",
      "906  monthly_stock_national         NaN  \n",
      "302        monthly_flow_RNI         NaN  \n",
      "151        monthly_flow_WLG         NaN  \n",
      "755   monthly_flow_national         NaN  \n",
      "907  monthly_stock_national         NaN  \n",
      "304        monthly_flow_RNI         NaN  \n",
      "306        monthly_flow_RNI         NaN  \n",
      "908  monthly_stock_national         NaN  \n",
      "2          monthly_flow_AKL         NaN  \n",
      "610        monthly_flow_RSI         NaN  \n",
      "607        monthly_flow_RSI         NaN  \n",
      "909  monthly_stock_national         NaN  \n",
      "153        monthly_flow_WLG         NaN  \n",
      "609        monthly_flow_RSI         NaN  \n",
      "3          monthly_flow_AKL         NaN  \n",
      "460        monthly_flow_CAN         NaN  \n",
      "612        monthly_flow_RSI         NaN  \n",
      "305        monthly_flow_RNI         NaN  \n",
      "910  monthly_stock_national         NaN  \n",
      "458        monthly_flow_CAN         NaN  \n",
      "309        monthly_flow_RNI         NaN  \n",
      "156        monthly_flow_WLG         NaN  \n",
      "..                      ...         ...  \n",
      "135        monthly_flow_AKL         NaN  \n",
      "753        monthly_flow_RSI         NaN  \n",
      "141        monthly_flow_AKL         NaN  \n",
      "139        monthly_flow_AKL         NaN  \n",
      "142        monthly_flow_AKL         NaN  \n",
      "902   monthly_flow_national         NaN  \n",
      "137        monthly_flow_AKL         NaN  \n",
      "144        monthly_flow_AKL         NaN  \n",
      "450        monthly_flow_RNI         NaN  \n",
      "145        monthly_flow_AKL         NaN  \n",
      "451        monthly_flow_RNI         NaN  \n",
      "138        monthly_flow_AKL         NaN  \n",
      "296        monthly_flow_WLG         NaN  \n",
      "295        monthly_flow_WLG         NaN  \n",
      "905   monthly_flow_national         NaN  \n",
      "903   monthly_flow_national         NaN  \n",
      "904   monthly_flow_national         NaN  \n",
      "452                     NaN         NaN  \n",
      "146        monthly_flow_AKL         NaN  \n",
      "143        monthly_flow_AKL         NaN  \n",
      "754        monthly_flow_RSI         NaN  \n",
      "150        monthly_flow_AKL         NaN  \n",
      "147        monthly_flow_AKL         NaN  \n",
      "149        monthly_flow_AKL         NaN  \n",
      "148        monthly_flow_AKL         NaN  \n",
      "301        monthly_flow_WLG         NaN  \n",
      "297        monthly_flow_WLG         NaN  \n",
      "298        monthly_flow_WLG         NaN  \n",
      "300        monthly_flow_WLG         NaN  \n",
      "299        monthly_flow_WLG         NaN  \n",
      "\n",
      "[1057 rows x 9 columns]\n"
     ]
    }
   ],
   "source": [
    "print(data.sort_values('DATA_VAL'))"
   ]
  },
  {
   "cell_type": "code",
   "execution_count": 27,
   "metadata": {},
   "outputs": [
    {
     "name": "stdout",
     "output_type": "stream",
     "text": [
      "0       1000\n",
      "1        995\n",
      "2       1007\n",
      "3       1012\n",
      "4       1020\n",
      "5       1023\n",
      "6       1045\n",
      "7       1033\n",
      "8       1037\n",
      "9       1058\n",
      "10      1051\n",
      "11      1051\n",
      "12      1063\n",
      "13      1064\n",
      "14      1050\n",
      "15      1082\n",
      "16      1076\n",
      "17      1083\n",
      "18      1085\n",
      "19      1070\n",
      "20      1071\n",
      "21      1056\n",
      "22      1069\n",
      "23      1064\n",
      "24      1059\n",
      "25      1057\n",
      "26      1061\n",
      "27      1071\n",
      "28      1068\n",
      "29      1059\n",
      "        ... \n",
      "1027    1340\n",
      "1028    1343\n",
      "1029    1347\n",
      "1030    1353\n",
      "1031    1356\n",
      "1032    1361\n",
      "1033    1364\n",
      "1034    1368\n",
      "1035    1371\n",
      "1036    1374\n",
      "1037    1377\n",
      "1038    1379\n",
      "1039    1381\n",
      "1040    1384\n",
      "1041    1387\n",
      "1042    1391\n",
      "1043    1396\n",
      "1044    1400\n",
      "1045    1405\n",
      "1046    1408\n",
      "1047    1411\n",
      "1048    1414\n",
      "1049    1418\n",
      "1050    1422\n",
      "1051    1425\n",
      "1052    1430\n",
      "1053    1433\n",
      "1054    1438\n",
      "1055    1443\n",
      "1056    1448\n",
      "Name: DATA_VAL, Length: 1057, dtype: int64\n"
     ]
    }
   ],
   "source": [
    "print(data.DATA_VAL)"
   ]
  },
  {
   "cell_type": "code",
   "execution_count": 28,
   "metadata": {},
   "outputs": [
    {
     "name": "stdout",
     "output_type": "stream",
     "text": [
      "0       1000\n",
      "1        995\n",
      "2       1007\n",
      "3       1012\n",
      "4       1020\n",
      "5       1023\n",
      "6       1045\n",
      "7       1033\n",
      "8       1037\n",
      "9       1058\n",
      "10      1051\n",
      "11      1051\n",
      "12      1063\n",
      "13      1064\n",
      "14      1050\n",
      "15      1082\n",
      "16      1076\n",
      "17      1083\n",
      "18      1085\n",
      "19      1070\n",
      "20      1071\n",
      "21      1056\n",
      "22      1069\n",
      "23      1064\n",
      "24      1059\n",
      "25      1057\n",
      "26      1061\n",
      "27      1071\n",
      "28      1068\n",
      "29      1059\n",
      "        ... \n",
      "1027    1340\n",
      "1028    1343\n",
      "1029    1347\n",
      "1030    1353\n",
      "1031    1356\n",
      "1032    1361\n",
      "1033    1364\n",
      "1034    1368\n",
      "1035    1371\n",
      "1036    1374\n",
      "1037    1377\n",
      "1038    1379\n",
      "1039    1381\n",
      "1040    1384\n",
      "1041    1387\n",
      "1042    1391\n",
      "1043    1396\n",
      "1044    1400\n",
      "1045    1405\n",
      "1046    1408\n",
      "1047    1411\n",
      "1048    1414\n",
      "1049    1418\n",
      "1050    1422\n",
      "1051    1425\n",
      "1052    1430\n",
      "1053    1433\n",
      "1054    1438\n",
      "1055    1443\n",
      "1056    1448\n",
      "Name: DATA_VAL, Length: 1057, dtype: int64\n"
     ]
    }
   ],
   "source": [
    "print(data['DATA_VAL'])"
   ]
  },
  {
   "cell_type": "code",
   "execution_count": 29,
   "metadata": {},
   "outputs": [
    {
     "name": "stdout",
     "output_type": "stream",
     "text": [
      "        SER_REF  TIME_REF  DATA_VAL STATUS  UNITS  \\\n",
      "2  CPIM.SE1041F   2007.01      1007  FINAL  Index   \n",
      "3  CPIM.SE1041F   2007.02      1012  FINAL  Index   \n",
      "\n",
      "                       Subject                                 Group  \\\n",
      "2  Consumers Price Index - CPI  Rental Price Indexes for New Zealand   \n",
      "3  Consumers Price Index - CPI  Rental Price Indexes for New Zealand   \n",
      "\n",
      "     Series_title_1  Unnamed: 8  \n",
      "2  monthly_flow_AKL         NaN  \n",
      "3  monthly_flow_AKL         NaN  \n"
     ]
    }
   ],
   "source": [
    "print(data[2:4])"
   ]
  },
  {
   "cell_type": "code",
   "execution_count": 32,
   "metadata": {},
   "outputs": [
    {
     "name": "stdout",
     "output_type": "stream",
     "text": [
      "      DATA_VAL       SER_REF\n",
      "0         1000  CPIM.SE1041F\n",
      "1          995  CPIM.SE1041F\n",
      "2         1007  CPIM.SE1041F\n",
      "3         1012  CPIM.SE1041F\n",
      "4         1020  CPIM.SE1041F\n",
      "5         1023  CPIM.SE1041F\n",
      "6         1045  CPIM.SE1041F\n",
      "7         1033  CPIM.SE1041F\n",
      "8         1037  CPIM.SE1041F\n",
      "9         1058  CPIM.SE1041F\n",
      "10        1051  CPIM.SE1041F\n",
      "11        1051  CPIM.SE1041F\n",
      "12        1063  CPIM.SE1041F\n",
      "13        1064  CPIM.SE1041F\n",
      "14        1050  CPIM.SE1041F\n",
      "15        1082  CPIM.SE1041F\n",
      "16        1076  CPIM.SE1041F\n",
      "17        1083  CPIM.SE1041F\n",
      "18        1085  CPIM.SE1041F\n",
      "19        1070  CPIM.SE1041F\n",
      "20        1071  CPIM.SE1041F\n",
      "21        1056  CPIM.SE1041F\n",
      "22        1069  CPIM.SE1041F\n",
      "23        1064  CPIM.SE1041F\n",
      "24        1059  CPIM.SE1041F\n",
      "25        1057  CPIM.SE1041F\n",
      "26        1061  CPIM.SE1041F\n",
      "27        1071  CPIM.SE1041F\n",
      "28        1068  CPIM.SE1041F\n",
      "29        1059  CPIM.SE1041F\n",
      "...        ...           ...\n",
      "1027      1340  CPIM.SE9041S\n",
      "1028      1343  CPIM.SE9041S\n",
      "1029      1347  CPIM.SE9041S\n",
      "1030      1353  CPIM.SE9041S\n",
      "1031      1356  CPIM.SE9041S\n",
      "1032      1361  CPIM.SE9041S\n",
      "1033      1364  CPIM.SE9041S\n",
      "1034      1368  CPIM.SE9041S\n",
      "1035      1371  CPIM.SE9041S\n",
      "1036      1374  CPIM.SE9041S\n",
      "1037      1377  CPIM.SE9041S\n",
      "1038      1379  CPIM.SE9041S\n",
      "1039      1381  CPIM.SE9041S\n",
      "1040      1384  CPIM.SE9041S\n",
      "1041      1387  CPIM.SE9041S\n",
      "1042      1391  CPIM.SE9041S\n",
      "1043      1396  CPIM.SE9041S\n",
      "1044      1400  CPIM.SE9041S\n",
      "1045      1405  CPIM.SE9041S\n",
      "1046      1408  CPIM.SE9041S\n",
      "1047      1411  CPIM.SE9041S\n",
      "1048      1414  CPIM.SE9041S\n",
      "1049      1418  CPIM.SE9041S\n",
      "1050      1422  CPIM.SE9041S\n",
      "1051      1425  CPIM.SE9041S\n",
      "1052      1430  CPIM.SE9041S\n",
      "1053      1433  CPIM.SE9041S\n",
      "1054      1438  CPIM.SE9041S\n",
      "1055      1443  CPIM.SE9041S\n",
      "1056      1448  CPIM.SE9041S\n",
      "\n",
      "[1057 rows x 2 columns]\n"
     ]
    }
   ],
   "source": [
    "print(data.loc[:,['DATA_VAL','SER_REF']])"
   ]
  },
  {
   "cell_type": "code",
   "execution_count": 33,
   "metadata": {},
   "outputs": [
    {
     "name": "stdout",
     "output_type": "stream",
     "text": [
      "1408\n"
     ]
    }
   ],
   "source": [
    "print(data.loc[1046,'DATA_VAL'])"
   ]
  },
  {
   "cell_type": "code",
   "execution_count": 34,
   "metadata": {},
   "outputs": [
    {
     "name": "stdout",
     "output_type": "stream",
     "text": [
      "        SER_REF STATUS\n",
      "3  CPIM.SE1041F  FINAL\n",
      "4  CPIM.SE1041F  FINAL\n"
     ]
    }
   ],
   "source": [
    "print(data.iloc[3:5,[0,3]])"
   ]
  },
  {
   "cell_type": "code",
   "execution_count": 39,
   "metadata": {},
   "outputs": [
    {
     "data": {
      "image/png": "[encoded data removed]",
      "text/plain": [
       "<matplotlib.figure.Figure at 0x7f0ab8b992b0>"
      ]
     },
     "metadata": {},
     "output_type": "display_data"
    }
   ],
   "source": [
    "import matplotlib\n",
    "from matplotlib import pyplot as plt\n",
    "%matplotlib inline\n",
    "lenovo_price=[10,5,67,88,76,99.77]\n",
    "asus_price=[23,44,89,90,98,23]\n",
    "year=[2015,2016,2017,2018,2019,2020]\n",
    "plt.plot(year,lenovo_price,year,asus_price) #to see in line\n",
    "plt.scatter(year,asus_price)   #to see in scatter form\n",
    "plt.show()"
   ]
  },
  {
   "cell_type": "code",
   "execution_count": 2,
   "metadata": {},
   "outputs": [
    {
     "data": {
      "image/png": "[encoded data removed]",
      "text/plain": [
       "<matplotlib.figure.Figure at 0x7fa1b859ca20>"
      ]
     },
     "metadata": {},
     "output_type": "display_data"
    },
    {
     "data": {
      "text/plain": [
       "<matplotlib.collections.PathCollection at 0x7fa1994c9240>"
      ]
     },
     "execution_count": 2,
     "metadata": {},
     "output_type": "execute_result"
    },
    {
     "data": {
      "image/png": "[encoded data removed]",
      "text/plain": [
       "<matplotlib.figure.Figure at 0x7fa19955c8d0>"
      ]
     },
     "metadata": {},
     "output_type": "display_data"
    }
   ],
   "source": [
    "import matplotlib\n",
    "from matplotlib import pyplot as plt\n",
    "%matplotlib inline\n",
    "lenovo_price=[10,5,67,88,76,99.77]\n",
    "asus_price=[23,44,89,90,98,23]\n",
    "year=[2015,2016,2017,2018,2019,2020]\n",
    "plt.plot(year,lenovo_price,year,asus_price) #to see in line\n",
    "plt.scatter(year,asus_price)   #to see in scatter form\n",
    "plt.show()\n",
    "plt.scatter(lenovo_price,asus_price,color=\"green\")"
   ]
  },
  {
   "cell_type": "code",
   "execution_count": 3,
   "metadata": {},
   "outputs": [
    {
     "data": {
      "text/plain": [
       "Text(0,0.5,'asus_price')"
      ]
     },
     "execution_count": 3,
     "metadata": {},
     "output_type": "execute_result"
    },
    {
     "data": {
      "image/png": "[encoded data removed]",
      "text/plain": [
       "<matplotlib.figure.Figure at 0x7fa1b859cf60>"
      ]
     },
     "metadata": {},
     "output_type": "display_data"
    }
   ],
   "source": [
    "plt.title(\"mobile stock graph\")\n",
    "plt.xlabel(\"lenovo price\")\n",
    "plt.ylabel(\"asus_price\")"
   ]
  },
  {
   "cell_type": "code",
   "execution_count": 4,
   "metadata": {},
   "outputs": [
    {
     "data": {
      "text/plain": [
       "(10, 200)"
      ]
     },
     "execution_count": 4,
     "metadata": {},
     "output_type": "execute_result"
    },
    {
     "data": {
      "image/png": "[encoded data removed]",
      "text/plain": [
       "<matplotlib.figure.Figure at 0x7fa1b859cbe0>"
      ]
     },
     "metadata": {},
     "output_type": "display_data"
    }
   ],
   "source": [
    "plt.xlim(10,100)\n",
    "plt.ylim(10,200)"
   ]
  },
  {
   "cell_type": "code",
   "execution_count": 5,
   "metadata": {},
   "outputs": [
    {
     "data": {
      "image/png": "[encoded data removed]",
      "text/plain": [
       "<matplotlib.figure.Figure at 0x7fa1b859cac8>"
      ]
     },
     "metadata": {},
     "output_type": "display_data"
    }
   ],
   "source": [
    "#creating custom charts\n",
    "\n",
    "fig1=plt.figure(1,figsize=(20,4.8))\n",
    "\n",
    "chart1=fig1.add_subplot(121)\n",
    "chart2=fig1.add_subplot(122)"
   ]
  },
  {
   "cell_type": "code",
   "execution_count": 8,
   "metadata": {},
   "outputs": [
    {
     "data": {
      "text/plain": [
       "<matplotlib.collections.PathCollection at 0x7fa199355c50>"
      ]
     },
     "execution_count": 8,
     "metadata": {},
     "output_type": "execute_result"
    },
    {
     "data": {
      "image/png": "[encoded data removed]",
      "text/plain": [
       "<matplotlib.figure.Figure at 0x7fa199471940>"
      ]
     },
     "metadata": {},
     "output_type": "display_data"
    }
   ],
   "source": [
    "from matplotlib import pyplot as plt\n",
    "%matplotlib inline\n",
    "fig1=plt.figure(1,figsize=(20,4.8))\n",
    "\n",
    "lenovo_price=[22,45,67,78.90,89]\n",
    "asus_price=[56,45,87,88.60,99]\n",
    "year=[2013,2014,2015,2016,2017]\n",
    "\n",
    "chart1=fig1.add_subplot(122)\n",
    "chart2=fig1.add_subplot(121)\n",
    "\n",
    "chart1.scatter(year,lenovo_price)\n",
    "chart2.scatter(year,asus_price)"
   ]
  },
  {
   "cell_type": "code",
   "execution_count": 10,
   "metadata": {},
   "outputs": [
    {
     "data": {
      "image/png": "[encoded data removed]",
      "text/plain": [
       "<matplotlib.figure.Figure at 0x7fa199286400>"
      ]
     },
     "metadata": {},
     "output_type": "display_data"
    }
   ],
   "source": [
    "from matplotlib.ticker import MaxNLocator\n",
    "fig1=plt.figure(1,figsize=(20,4.8))   #formatting and locators\n",
    "\n",
    "lenovo_price=[22,45,67,78.90,89]\n",
    "asus_price=[56,45,87,88.60,99]\n",
    "year=[2013,2014,2015,2016,2017]\n",
    "\n",
    "chart1=fig1.add_subplot(122)\n",
    "chart2=fig1.add_subplot(121)\n",
    "\n",
    "chart1.scatter(year,lenovo_price)\n",
    "chart2.xaxis.set_major_locator(MaxNLocator(integer=True))\n",
    "\n",
    "chart1.plot(year,asus_price)\n",
    "chart2.xaxis.set_major_locator(MaxNLocator(integer=True))"
   ]
  },
  {
   "cell_type": "code",
   "execution_count": 12,
   "metadata": {},
   "outputs": [
    {
     "data": {
      "image/png": "[encoded data removed]",
      "text/plain": [
       "<matplotlib.figure.Figure at 0x7fa19919e630>"
      ]
     },
     "metadata": {},
     "output_type": "display_data"
    }
   ],
   "source": [
    "from matplotlib import pyplot as plt\n",
    "%matplotlib inline\n",
    "fig_2,axes=plt.subplots(1,2,figsize=(20,5))"
   ]
  },
  {
   "cell_type": "code",
   "execution_count": 13,
   "metadata": {},
   "outputs": [
    {
     "data": {
      "image/png": "[encoded data removed]",
      "text/plain": [
       "<matplotlib.figure.Figure at 0x7fa199471048>"
      ]
     },
     "metadata": {},
     "output_type": "display_data"
    }
   ],
   "source": [
    "from matplotlib import pyplot as plt\n",
    "%matplotlib inline\n",
    "fig_2,axes=plt.subplots(1,3,figsize=(20,5))"
   ]
  },
  {
   "cell_type": "code",
   "execution_count": 14,
   "metadata": {},
   "outputs": [
    {
     "data": {
      "image/png": "[encoded data removed]",
      "text/plain": [
       "<matplotlib.figure.Figure at 0x7fa199471fd0>"
      ]
     },
     "metadata": {},
     "output_type": "display_data"
    }
   ],
   "source": [
    "from matplotlib import pyplot as plt\n",
    "%matplotlib inline\n",
    "fig_2,axes=plt.subplots(3,2,figsize=(20,5))"
   ]
  },
  {
   "cell_type": "code",
   "execution_count": 16,
   "metadata": {},
   "outputs": [
    {
     "data": {
      "image/png": "[encoded data removed]",
      "text/plain": [
       "<matplotlib.figure.Figure at 0x7fa198e7cf98>"
      ]
     },
     "metadata": {},
     "output_type": "display_data"
    }
   ],
   "source": [
    "from mpl_toolkits.mplot3d import Axes3D    #3 dimension representation\n",
    "from mpl_toolkits.mplot3d import axes3d\n",
    "import matplotlib.pyplot as plt\n",
    "figure=plt.figure()\n",
    "axis=figure.add_subplot(111,projection=\"3d\")\n",
    "x=[1,2,3,4,5,6,7,8,9,10]\n",
    "y=[11,12,13,14,15,16,17,18,19,20]\n",
    "z=[21,22,23,24,25,26,27,28,29,30]\n",
    "axis.scatter(x,y,z,c='r',marker='o')\n",
    "axis.set_xlabel('x Axis')\n",
    "axis.set_ylabel('y Axis')\n",
    "axis.set_zlabel('z Axis')\n",
    "plt.show()\n"
   ]
  },
  {
   "cell_type": "code",
   "execution_count": null,
   "metadata": {},
   "outputs": [],
   "source": []
  }
 ],
 "metadata": {
  "kernelspec": {
   "display_name": "Python 3",
   "language": "python",
   "name": "python3"
  },
  "language_info": {
   "codemirror_mode": {
    "name": "ipython",
    "version": 3
   },
   "file_extension": ".py",
   "mimetype": "text/x-python",
   "name": "python",
   "nbconvert_exporter": "python",
   "pygments_lexer": "ipython3",
   "version": "3.6.7"
  }
 },
 "nbformat": 4,
 "nbformat_minor": 2
}
