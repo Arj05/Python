{
 "cells": [
  {
   "cell_type": "code",
   "execution_count": 2,
   "metadata": {},
   "outputs": [
    {
     "name": "stdout",
     "output_type": "stream",
     "text": [
      "x>y is  False\n",
      "x<y is  True\n"
     ]
    }
   ],
   "source": [
    "x1=100 #conditional\n",
    "x2=200\n",
    "print(\"x>y is \",x1>x2)\n",
    "print(\"x<y is \",x1<x2)\n"
   ]
  },
  {
   "cell_type": "code",
   "execution_count": 5,
   "metadata": {},
   "outputs": [
    {
     "name": "stdout",
     "output_type": "stream",
     "text": [
      "and operation is False\n",
      "or operation is True\n",
      "not operation is True\n"
     ]
    }
   ],
   "source": [
    "x1=True #logical\n",
    "x2=False\n",
    "print(\"and operation is\",x1 and x2)\n",
    "print(\"or operation is\",x1 or x2)\n",
    "print(\"not operation is\",not x2)"
   ]
  },
  {
   "cell_type": "code",
   "execution_count": 6,
   "metadata": {},
   "outputs": [
    {
     "name": "stdout",
     "output_type": "stream",
     "text": [
      "True\n",
      "True\n",
      "False\n",
      "True\n"
     ]
    }
   ],
   "source": [
    "x1='arjun' #identity and membership\n",
    "x2='lakhya'\n",
    "print('x' not in x1)\n",
    "print('a' in x1)\n",
    "print(x1 is x2)\n",
    "print(x1 is not x2)"
   ]
  },
  {
   "cell_type": "code",
   "execution_count": 8,
   "metadata": {},
   "outputs": [
    {
     "name": "stdout",
     "output_type": "stream",
     "text": [
      "12\n"
     ]
    }
   ],
   "source": [
    "x=12 #bitwise operation\n",
    "y=13\n",
    "print(x&y)"
   ]
  },
  {
   "cell_type": "code",
   "execution_count": 14,
   "metadata": {},
   "outputs": [
    {
     "name": "stdout",
     "output_type": "stream",
     "text": [
      "0b11010\n"
     ]
    }
   ],
   "source": [
    "print(bin(26))"
   ]
  },
  {
   "cell_type": "code",
   "execution_count": 18,
   "metadata": {},
   "outputs": [
    {
     "name": "stdout",
     "output_type": "stream",
     "text": [
      "arjun100\n"
     ]
    }
   ],
   "source": [
    "a=100 #type conversion\n",
    "b=\"arjun\"\n",
    "c=str(a)\n",
    "print(b+c)"
   ]
  },
  {
   "cell_type": "code",
   "execution_count": 19,
   "metadata": {},
   "outputs": [
    {
     "name": "stdout",
     "output_type": "stream",
     "text": [
      "10.22arjun\n"
     ]
    }
   ],
   "source": [
    "a=str(10.22)\n",
    "b=\"arjun\"\n",
    "print(a+b)\n"
   ]
  },
  {
   "cell_type": "code",
   "execution_count": 20,
   "metadata": {},
   "outputs": [
    {
     "name": "stdout",
     "output_type": "stream",
     "text": [
      "machine learning\n",
      "h\n"
     ]
    }
   ],
   "source": [
    "str1=\"machine learning\" #string indexing\n",
    "print(str1)\n",
    "print(str1[3])"
   ]
  },
  {
   "cell_type": "code",
   "execution_count": 24,
   "metadata": {},
   "outputs": [
    {
     "name": "stdout",
     "output_type": "stream",
     "text": [
      "enter a number23\n",
      "entered number is,num\n",
      "<class 'int'>\n"
     ]
    }
   ],
   "source": [
    "num=int(input(\"enter a number\")) #type casting\n",
    "print(\"entered number is,num\")\n",
    "print(type(num))"
   ]
  },
  {
   "cell_type": "code",
   "execution_count": null,
   "metadata": {},
   "outputs": [],
   "source": []
  }
 ],
 "metadata": {
  "kernelspec": {
   "display_name": "Python 3",
   "language": "python",
   "name": "python3"
  },
  "language_info": {
   "codemirror_mode": {
    "name": "ipython",
    "version": 3
   },
   "file_extension": ".py",
   "mimetype": "text/x-python",
   "name": "python",
   "nbconvert_exporter": "python",
   "pygments_lexer": "ipython3",
   "version": "3.6.7"
  }
 },
 "nbformat": 4,
 "nbformat_minor": 2
}
